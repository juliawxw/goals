{
  "cells": [
    {
      "cell_type": "markdown",
      "metadata": {
        "id": "view-in-github",
        "colab_type": "text"
      },
      "source": [
        "<a href=\"https://colab.research.google.com/github/juliawxw/goals/blob/main/pandas_exercise.ipynb\" target=\"_parent\"><img src=\"https://colab.research.google.com/assets/colab-badge.svg\" alt=\"Open In Colab\"/></a>"
      ]
    },
    {
      "cell_type": "markdown",
      "metadata": {
        "id": "TyqXMltQLj_4"
      },
      "source": [
        "# Homework 3. Pandas\n",
        "\n",
        "## Important notes\n",
        "\n",
        "1. *When you open this file on GitHub, copy the address to this file from the address bar of your browser. Now you can go to [Google Colab](https://colab.research.google.com/), click `File -> Open notebook -> GitHub`, paste the copied URL and click the search button (the one with the magnifying glass to the right of the search input box). Your personal copy of this notebook will now open on Google Colab.*\n",
        "2. *Do not delete or change variable names in the code cells below. You may add to each cell as many lines of code as you need, just make sure to assign your solution to the predefined variable(s) in the corresponding cell. Failing to do so will make the tests fail.*\n",
        "3. *To save your work, click `File -> Save a copy on GitHub` and __make sure to manually select the correct repository from the dropdown list__.*\n",
        "4. *If you mess up with this file and need to start from scratch, you can always find the original one [here](https://github.com/hse-mlwp-2022/assignment3-template/blob/main/pandas_exercise.ipynb). Just open it in Google Colab (see note 1) and save to your repository (see note 3). Remember to backup your code elsewhere, since this action will overwrite your previous work.* \n",
        "5. *Exercises 1-4 are mandatory. Your work __will not be graded__ if you fail any one of them. Exercises 5-8 are optional, you can skip them if you want*\n",
        "\n",
        "## About the Dataset\n",
        "\n",
        "We will be using 2019 flight statistics from the United States Department of Transportation’s Bureau of Transportation Statistics (available [here](https://www.transtats.bts.gov/DL_SelectFields.asp?gnoyr_VQ=FMF&QO_fu146_anzr=Nv4%20Pn44vr45) and in your repository as `data/T100_MARKET_ALL_CARRIER.zip`). You can load the dataset in pandas using this link: `https://github.com/hse-mlwp-2022/assignment3-template/raw/main/data/T100_MARKET_ALL_CARRIER.zip`.\n",
        "\n",
        "Each row contains information about a specific route for a given carrier in a given month (e.g., JFK &rarr; LAX on Delta Airlines in January). There are 321,409 rows and 41 columns. Note that you don't need to unzip the file to read it in with `pd.read_csv()`.\n",
        "\n",
        "#### Exercises\n",
        "\n",
        "##### 1. Read in the data and convert the column names to lowercase to make them easier to work with."
      ],
      "id": "TyqXMltQLj_4"
    },
    {
      "cell_type": "code",
      "execution_count": 1,
      "metadata": {
        "id": "v_ToBQgULj_6"
      },
      "outputs": [],
      "source": [
        "import pandas as pd\n",
        "c = pd.read_csv('https://github.com/hse-mlwp-2022/assignment3-template/raw/main/data/T100_MARKET_ALL_CARRIER.zip')\n",
        "c.rename(columns={col:col.lower() for col in c}, inplace = True)"
      ],
      "id": "v_ToBQgULj_6"
    },
    {
      "cell_type": "markdown",
      "metadata": {
        "id": "-1_Trb6qLj_7"
      },
      "source": [
        "##### 2. What columns are in the data? (0.5 point)"
      ],
      "id": "-1_Trb6qLj_7"
    },
    {
      "cell_type": "code",
      "execution_count": 2,
      "metadata": {
        "id": "wVFWnGhvLj_7",
        "outputId": "325f3017-5635-4fd2-e761-9e989aa32ae4",
        "colab": {
          "base_uri": "https://localhost:8080/"
        }
      },
      "outputs": [
        {
          "output_type": "stream",
          "name": "stdout",
          "text": [
            "['passengers', 'freight', 'mail', 'distance', 'unique_carrier', 'airline_id', 'unique_carrier_name', 'unique_carrier_entity', 'region', 'carrier', 'carrier_name', 'carrier_group', 'carrier_group_new', 'origin_airport_id', 'origin_airport_seq_id', 'origin_city_market_id', 'origin', 'origin_city_name', 'origin_state_abr', 'origin_state_fips', 'origin_state_nm', 'origin_country', 'origin_country_name', 'origin_wac', 'dest_airport_id', 'dest_airport_seq_id', 'dest_city_market_id', 'dest', 'dest_city_name', 'dest_state_abr', 'dest_state_fips', 'dest_state_nm', 'dest_country', 'dest_country_name', 'dest_wac', 'year', 'quarter', 'month', 'distance_group', 'class', 'data_source']\n"
          ]
        }
      ],
      "source": [
        "columns = list(c.columns) # Place your code here instead of '...'\n",
        "\n",
        "print(columns)"
      ],
      "id": "wVFWnGhvLj_7"
    },
    {
      "cell_type": "markdown",
      "metadata": {
        "id": "DLSp1mNuLj_8"
      },
      "source": [
        "##### 3. How many distinct carrier names are in the dataset? (0.5 point)"
      ],
      "id": "DLSp1mNuLj_8"
    },
    {
      "cell_type": "code",
      "execution_count": 3,
      "metadata": {
        "id": "Ah9OfQH9Lj_8",
        "outputId": "c9d43092-96a5-4381-ca9d-9dc91ea01581",
        "colab": {
          "base_uri": "https://localhost:8080/"
        }
      },
      "outputs": [
        {
          "output_type": "stream",
          "name": "stdout",
          "text": [
            "['Emirates' 'Bemidji Airlines' 'Kalitta Air LLC'\n",
            " 'Eastern Airlines f/k/a Dynamic Airways, LLC'\n",
            " 'Rhoades Aviation dba Transair' 'Air Charter, Inc d/b/a Air Flamenco'\n",
            " 'Southern Air Inc.' 'Federal Express Corporation'\n",
            " 'Grand Canyon Helicopters' 'Polar Air Cargo Airways'\n",
            " 'USA Jet Airlines Inc.' 'Omni Air International LLC'\n",
            " 'Compagnie Natl Air France' 'Martinair Holland N.V.'\n",
            " 'Korean Air Lines Co. Ltd.'\n",
            " 'Aerounion Aerotransporte de Carga Union SA de CV'\n",
            " 'Silk Way West Airlines' 'Asiana Airlines Inc.' 'SkyLink Express Inc.'\n",
            " 'Qantas Airways Ltd.' 'Qatar Airways (Q.C.S.C)' 'Singapore Airlines Ltd.'\n",
            " 'Turk Hava Yollari A.O.' 'China Cargo Airline' 'ADVANCED AIR, LLC'\n",
            " 'CFM Inc d/b/a Contour Airlines d/b/a One Jet Shuttle'\n",
            " 'Kalitta Charters II'\n",
            " 'National Air Cargo Group Inc d/ba National Airlines' 'Asia Pacific'\n",
            " 'Antonov Company'\n",
            " 'Grand Canyon Airlines, Inc. d/b/a Grand Canyon Airlines d/b/a Scenic Airlines'\n",
            " 'United Parcel Service' 'Atlas Air Inc.' 'Air Transport International'\n",
            " 'Wright Air Service' 'Cape Air' 'JetBlue Airways'\n",
            " 'Commutair Aka Champlain Enterprises, Inc.' 'Island Air Service'\n",
            " 'Warbelow' 'Grant Aviation' 'Western Global' 'Northern Air Cargo Inc.'\n",
            " '40-Mile Air' 'Spernak Airways Inc.' 'Cargolux Italia SpA'\n",
            " 'Cathay Pacific Airways Ltd.' 'China Southern Airlines'\n",
            " 'Maritime Helicopters, Inc.' 'Scott Aviation, LLC  d/b/a  Silver Air'\n",
            " 'Tatonduk Outfitters Limited d/b/a Everts Air Alaska and Everts Air Cargo'\n",
            " 'Ryan Air f/k/a Arctic Transportation'\n",
            " 'Caribbean Sun Airlines, Inc. d/b/a World Atlantic Airlines'\n",
            " 'Boutique Air' 'United Air Lines Inc.' 'Bering Air Inc.' 'ABX Air Inc'\n",
            " 'Hageland Aviation Service' 'Delta Air Lines Inc.'\n",
            " 'Alaska Central Express' 'Star Marianas Air Inc.' 'Ameristar Air Cargo'\n",
            " 'Alaska Airlines Inc.' 'Ellis Air Taxi Inc.' 'Kenmore Air Harbor'\n",
            " 'AeroLogic GmbH' 'Etihad Airways' 'Aerotransportes Mas De Crga'\n",
            " 'Jet Aviation Flight Services, Inc.' 'Avjet Corporation'\n",
            " 'Sky Lease Cargo' 'Alia-(The) Royal Jordanian'\n",
            " 'AirBridgeCargo Airlines Limited' 'Mesa Airlines Inc.'\n",
            " 'Southwest Airlines Co.' 'Trans States Airlines'\n",
            " 'Air Wisconsin Airlines Corp' 'Lan Colombia'\n",
            " 'ABSA-Aerolinhas Brasileiras' 'Eva Airways Corporation'\n",
            " 'China Airlines Ltd.' 'Lan-Chile Airlines'\n",
            " 'Kalinin Aviation LLC d/b/a Alaska Seaplanes' 'Smokey Bay Air Inc.'\n",
            " 'Pacific Airways, Inc.'\n",
            " 'Corvus Airlines, Inc d/b/a Era Aviation d/b/a Ravn Alaska'\n",
            " 'Multi-Aero, Inc. d/b/a Air Choice One' 'Estafeta Carga Aereas'\n",
            " 'Cavok Air LLC'\n",
            " 'Paklook Air, Inc d/b/a/ Airlift Alaska d/b/a/ Yute Commuter Service'\n",
            " 'Venture Travel LLC d/b/a Taquan Air Service'\n",
            " 'Transportes Aereos Mercantiles Panamericanos S.A' 'Volga-Dnepr Airlines'\n",
            " 'Cargojet Airways Ltd.' 'Cargolux Airlines International S.A'\n",
            " 'Aloha Air Cargo' 'Transportes Aeros Meridiona' 'Miami Air International'\n",
            " 'Amerijet International' 'Prescott Support Company, Inc.'\n",
            " 'Iliamna Air Taxi' 'Lynden Air Cargo Airlines' 'C.A.L Cargo Airlines'\n",
            " 'Lufthansa German Airlines' 'Oceanair Linhas Aereas S A'\n",
            " 'Cargologicair Limited'\n",
            " 'National Aviation Company of India Limited d/b/a Air India'\n",
            " 'DHL Aero Expresso' 'Lan Peru Airlines'\n",
            " 'Sun Air Express LLC dba Sun Air International'\n",
            " 'Tropic Ocean Airways LLC' 'Nippon Cargo Airlines'\n",
            " 'Tap-Portuguese Airlines' 'ACE Belgium Freighters S.A.'\n",
            " 'Yangtze River Express Airlines Company' 'Empire Airlines Inc.'\n",
            " 'Air Sunshine Inc.' 'Compania Panamena (Copa)' 'Gulf And Caribbean Cargo'\n",
            " 'Lan Ecuador' 'Air China'\n",
            " 'Bidzy Ta Hot Aana, Inc. d/b/a Tanana Air Service' 'Compass Airlines'\n",
            " 'Harris Air Services' 'European Air Transport Leipzig GmbH'\n",
            " 'American Airlines Inc.' 'Katmai Air' 'All Nippon Airways Co.'\n",
            " 'Mokulele Flight Services, Inc.' 'Elite Airways LLC' 'Air Excursions LLC'\n",
            " 'GoJet Airlines LLC d/b/a United Express' 'Republic Airline'\n",
            " 'Nolinor Aviation' 'Swift Air, LLC d/b/a Eastern Air Lines d/b/a Eastern'\n",
            " 'Rectrix Aviation, Inc.'\n",
            " 'Trans Northern Airways d/b/a Air Unlimited Charter Services'\n",
            " 'Scott Air LLC dba Island Air Express' 'Gem Air LLC' 'Endeavor Air Inc.'\n",
            " 'Reeve Air Alaska, LLC' 'El Al Israel Airlines Ltd.' 'Piedmont Airlines'\n",
            " 'J&M Alaska Air Tours, Inc. d/b/a Alaska Air Transit'\n",
            " 'Hillwood Airways, LLC  f/k/a   ATX Air Services, LLC' 'XTRA Airways'\n",
            " 'Air Alsie A/S' 'Aeromexico' 'Tradewind Aviation'\n",
            " 'Air Hamburg Luftverkehrsgesellschaft mbH' 'Unijet' 'CAT Aviation'\n",
            " 'VistaJet Limited' 'Horizon Air' 'SkyWest Airlines Inc.'\n",
            " 'Spirit Air Lines' 'FAI rent-a-jet AG' 'ExpressJet Airlines Inc.'\n",
            " 'Envoy Air' 'Chartright Air Inc.' 'London Air Services Limited'\n",
            " 'ACM AIR CHARTER GmbH' 'Luxaviation S A' 'Svenskt Industriflyg AB'\n",
            " 'Gestair, S.A.' 'Prince Aviation'\n",
            " 'Sun Country Airlines d/b/a MN Airlines' 'Flying Service N.V.'\n",
            " 'Flying Group Lux S.A.' 'Albinati aviation Limited'\n",
            " 'ExpressJet Airlines LLC' 'Albinati Aeronautics SA'\n",
            " 'TAG Aviation (UK) Ltd.' 'Dassault Falcon Service' 'Comlux Malta, Ltd.'\n",
            " 'PSA Airlines Inc.' 'Frontier Airlines Inc.'\n",
            " 'Hong Kong Express Airways Limited' 'Peninsula Airways Inc.'\n",
            " 'Via Airlines d/b/a Charter Air Transport' 'Skyfirst Limited'\n",
            " 'Swiss Air Ambulance' 'Bertelsmann Aviation GmbH' 'Blue Jet SP Z o o'\n",
            " 'Talofa Airways Limited' 'ABS JETS A.S' 'Global Jet Luxembourg, Sa'\n",
            " 'Hyperion Aviation Ltd. dba Hyperion' 'TAG Aviation S.A.' 'JetClub AG'\n",
            " 'Elitavia Malta Limited' 'Acropolis Aviation Ltd.'\n",
            " 'International Jet Management GmbH' 'DCA'\n",
            " 'Volkswagen AirSevice GmbH dba Volkswagon' 'TAG Aviation (Malta) Ltd.'\n",
            " 'Seaborne Virgin Islands, Inc.' 'Jet Aviation Business Jets AG'\n",
            " 'China Eastern Airlines' 'Bradley Air Services Ltd.'\n",
            " 'Thomas Cook Airlines Uk Ltd.' 'Klm Royal Dutch Airlines'\n",
            " 'Gainjet Aviation SA'\n",
            " 'Nealco Air Charter Services, Inc.  d/b/a  Watermakers Air'\n",
            " 'Concierge U Ltd. d/b/a Jet Concierge Club' 'Vieques Air Link Inc.'\n",
            " 'Laudamotion Executive' 'Luxaviation Germany GmbH'\n",
            " 'Aeroenlaces Nacionales, S.A. de C.V. d/b/a VivaAerobus'\n",
            " 'Comlux Aruba NV' 'Swiss International Airlines' 'Laudamotion GmbH'\n",
            " 'Allegiant Air'\n",
            " 'Compagnie Aerienne Inter Regionale Express dba Air Antilles Express & Air Guyane'\n",
            " 'Air Canada' 'Sichuan Airlines Co Ltd.'\n",
            " 'Concesionaria Vuela Compania De Aviacion SA de CV (Volaris)'\n",
            " 'Key Lime Air Corporation' 'Longtail Aviation Ltd.'\n",
            " 'Bahamasair Holding Limited' 'Mjet GmbH' 'Westjet'\n",
            " 'Polynesian Airlines Ltd.' 'Sky Regional Airlines Inc.'\n",
            " 'Polaris Aviation Solutions, LLC' 'Delux Public Charter LLC'\n",
            " 'Hong Kong Airlines Limited' 'Jazz Aviation LP' 'Hawaiian Airlines Inc.'\n",
            " 'Titan Airways' 'KaiserAir, Inc.' 'Air Georgian'\n",
            " 'Friday Harbor Seaplanes' 'Air Company Yakutia' 'Porter Airlines, Inc.'\n",
            " 'Silver Airways' 'Scandinavian Airlines Sys.' 'VRG Linhas Aereas S A'\n",
            " 'Condor Flugdienst' 'Flair Airlines Ltd.' 'Aerovias Nacl De Colombia'\n",
            " 'Britannia Airways Ltd.' 'Air Canada rouge LP' 'British Airways Plc'\n",
            " 'Surinam Airways Limited' 'Saudi Arabian Airlines Corp' 'Aerolitoral'\n",
            " 'Virgin Atlantic Airways' 'Norwegian Air International Ltd.'\n",
            " 'Sunwing Airlines Inc.' 'Air Pacific Ltd.' 'Icelandair'\n",
            " 'Azul Linhas Aereas Brazileiras S A' 'Caribbean Airlines Limited'\n",
            " 'Skymark Airlines Inc.' 'South African Airways'\n",
            " 'Tantalus Air Ltd. d/b/a Harbour Air d/b/a Harbour Air Seaplanes'\n",
            " 'Cayman Airways Limited' 'Air Transat' 'Hainan Airlines Company Limited'\n",
            " 'Japan Air Lines Co. Ltd.' 'ABC Aerolineas SA de CV dba Interjet'\n",
            " 'Iberia Air Lines Of Spain' 'Scoot Tigerair Pte Ltd d/b/a Scoot' 'Lacsa'\n",
            " 'Ultimate JetCharters LLC dba Ultimate Air Shuttle' 'Edelweiss Air Ag'\n",
            " 'Finnair Oy' 'Taca Peru' 'Sata Internacional' 'Norwegian Air Shuttle ASA'\n",
            " 'Polskie Linie Lotnicze' 'Compagnia Aerea Italiana'\n",
            " 'TUI Airlines Nederland B.V.' 'Brussels Airlines N.V.'\n",
            " 'Virgin Blue International Airlines t/a V Australia' 'Jeju Air Co Ltd.'\n",
            " 'Fast Colombia SAS d/b/a Viva Colombia' 'Eurowings GmbH'\n",
            " 'Norwegian Air UK Limited' 'WOW Air ehf' 'Air Europa'\n",
            " 'Aeroflot Russian Airlines' 'Transportes Aereos De Cabo'\n",
            " 'XL Airways France' 'PM Air, LLC' 'Austrian Airlines'\n",
            " 'Taca International Airlines' 'Ethiopian Airlines'\n",
            " 'Azerbaijan Airlines CJSC' 'Air New Zealand' 'New England Airlines Inc.'\n",
            " 'Aer Lingus Plc' 'Air Tahiti Nui' 'City Wings Inc dba Seaflight'\n",
            " 'Royal Air Maroc' 'Xiamen Airlines Co., Ltd.' 'Vuela Aviacion, S.A.'\n",
            " 'French bee' 'Uzbekistan Airways' 'Air Serbia' 'Airitaly S.P.A.'\n",
            " 'Beijing Capital Airlines' 'Aerolineas Argentinas'\n",
            " 'Tame Linea Aerea del Ecuador Tme EP' 'Egyptair'\n",
            " 'Aerovias de Intergracian Regional' 'OPENSKIES SAS'\n",
            " 'Jetstar Airways Pty Limited' 'Kenya Airways PLC' 'Aviateca, S.A.'\n",
            " 'Philippine Airlines Inc.' 'Avior Airlines, C.A.' 'Jin Air Co Ltd.'\n",
            " 'Ukraine International Airlines' 'Air Asia X Berhad dba Airasia X'\n",
            " 'LAN Argentina' 'Kuwait Airways Corp.' 'Air Japan Co']\n"
          ]
        }
      ],
      "source": [
        "carrier_names = c[\"carrier_name\"].unique() # Place your code here instead of '...'\n",
        "\n",
        "print(carrier_names)"
      ],
      "id": "Ah9OfQH9Lj_8"
    },
    {
      "cell_type": "markdown",
      "metadata": {
        "id": "qL6MtF7zLj_8"
      },
      "source": [
        "##### 4. Calculate the totals of the `freight`, `mail`, and `passengers` columns for flights from the United Kingdom to the United States. (1 point)"
      ],
      "id": "qL6MtF7zLj_8"
    },
    {
      "cell_type": "code",
      "execution_count": 4,
      "metadata": {
        "id": "dMc5HlFzLj_8",
        "outputId": "28577fe7-61f2-4af6-9551-db58ef148ea8",
        "colab": {
          "base_uri": "https://localhost:8080/"
        }
      },
      "outputs": [
        {
          "output_type": "stream",
          "name": "stdout",
          "text": [
            "freight total: 903296879.0\n",
            "mail total: 29838395.0\n",
            "passengers total: 10685608.0\n"
          ]
        }
      ],
      "source": [
        "freight_total = c[(c['origin_country'] == 'GB') & (c['dest_country'] == 'US')]['freight'].sum() # Place your code here instead of '...'\n",
        "mail_total = c[(c['origin_country'] == 'GB') & (c['dest_country'] == 'US')]['mail'].sum() # Place your code here instead of '...'\n",
        "passengers_total = c[(c['origin_country'] == 'GB') & (c['dest_country'] == 'US')]['passengers'].sum() # Place your code here instead of '...'\n",
        "\n",
        "print(f\"freight total: {freight_total}\")\n",
        "print(f\"mail total: {mail_total}\")\n",
        "print(f\"passengers total: {passengers_total}\")"
      ],
      "id": "dMc5HlFzLj_8"
    },
    {
      "cell_type": "markdown",
      "metadata": {
        "id": "LHvlMpE_Lj_9"
      },
      "source": [
        "##### 5. Which 10 carriers flew the most passengers out of the United States to another country? (1.5 points)\n",
        "The result should be a Python iterable, e.g. a list or a corresponding pandas object"
      ],
      "id": "LHvlMpE_Lj_9"
    },
    {
      "cell_type": "code",
      "execution_count": 5,
      "metadata": {
        "id": "VstM8ZMuLj_9",
        "outputId": "f9a29939-b6ad-4c70-9bb1-817ee972021b",
        "colab": {
          "base_uri": "https://localhost:8080/"
        }
      },
      "outputs": [
        {
          "output_type": "stream",
          "name": "stdout",
          "text": [
            "List of top 10 carriers with max number of passengers flown out of US:                   carrier_name  passengers\n",
            "262    Virgin Atlantic Airways   2074735.0\n",
            "263     Southwest Airlines Co.   2146960.0\n",
            "264                 Air Canada   2540855.0\n",
            "265                    Westjet   2626600.0\n",
            "266  Lufthansa German Airlines   3123611.0\n",
            "267        British Airways Plc   3758945.0\n",
            "268            JetBlue Airways   4522492.0\n",
            "269       Delta Air Lines Inc.  13054230.0\n",
            "270      United Air Lines Inc.  14427923.0\n",
            "271     American Airlines Inc.  14867653.0\n"
          ]
        }
      ],
      "source": [
        "import numpy as np\n",
        "top_10_by_passengers = c[(c['origin_country'] == 'US') & (c['dest_country'] != 'US')].groupby('carrier_name').agg({'passengers':np.sum}).sort_values('passengers').reset_index()[-10:] # Place your code here instead of '...'\n",
        "print(f\"List of top 10 carriers with max number of passengers flown out of US: {top_10_by_passengers}\")"
      ],
      "id": "VstM8ZMuLj_9"
    },
    {
      "cell_type": "markdown",
      "metadata": {
        "id": "tGdRzWYNLj_9"
      },
      "source": [
        "##### 6. Between which two cities were the most passengers flown? Make sure to account for both directions. (1.5 points)"
      ],
      "id": "tGdRzWYNLj_9"
    },
    {
      "cell_type": "code",
      "execution_count": 7,
      "metadata": {
        "id": "GaWE315-Lj_-",
        "outputId": "89e91e0e-d33d-420f-d3cf-afbb56dba8c7",
        "colab": {
          "base_uri": "https://localhost:8080/"
        }
      },
      "outputs": [
        {
          "output_type": "stream",
          "name": "stdout",
          "text": [
            "top route is 'Chicago, IL - New York, NY' with traffic of 2067068.0 passengers\n"
          ]
        }
      ],
      "source": [
        "needed_entry = c.groupby(['origin_city_name', 'dest_city_name']).agg({'passengers':np.sum}).sort_values('passengers').reset_index().values[-1]\n",
        "top_route_origin_city = needed_entry[0] # Place your code here instead of '...'\n",
        "top_route_dest_city = needed_entry[1] # Place your code here instead of '...'\n",
        "top_route_passengers_count = needed_entry[2] # Place your code here instead of '...'\n",
        "\n",
        "print(f\"top route is '{top_route_origin_city} - {top_route_dest_city}' with traffic of {top_route_passengers_count} passengers\")"
      ],
      "id": "GaWE315-Lj_-"
    },
    {
      "cell_type": "markdown",
      "metadata": {
        "id": "eIH3awNbLj_-"
      },
      "source": [
        "##### 7. Find the top 3 carriers for the pair of cities found in #6 and calculate the percentage of passengers each accounted for. (2 points)\n",
        "The result should be a pandas dataframe object with two columns: \n",
        "1. carrier name (string)\n",
        "2. percentage of passengers (float in the range of 0-100)"
      ],
      "id": "eIH3awNbLj_-"
    },
    {
      "cell_type": "code",
      "execution_count": 8,
      "metadata": {
        "id": "hjuZmKgRLj_-",
        "outputId": "2765d774-1dda-479e-e040-1cfeb1350b16",
        "colab": {
          "base_uri": "https://localhost:8080/",
          "height": 143
        }
      },
      "outputs": [
        {
          "output_type": "execute_result",
          "data": {
            "text/plain": [
              "              carrier name  percentage of passengers\n",
              "12    Delta Air Lines Inc.                 13.237736\n",
              "13   United Air Lines Inc.                 23.127686\n",
              "14  American Airlines Inc.                 31.667754"
            ],
            "text/html": [
              "\n",
              "  <div id=\"df-2dba120e-cc4b-4816-8145-3aca10eb7ac0\">\n",
              "    <div class=\"colab-df-container\">\n",
              "      <div>\n",
              "<style scoped>\n",
              "    .dataframe tbody tr th:only-of-type {\n",
              "        vertical-align: middle;\n",
              "    }\n",
              "\n",
              "    .dataframe tbody tr th {\n",
              "        vertical-align: top;\n",
              "    }\n",
              "\n",
              "    .dataframe thead th {\n",
              "        text-align: right;\n",
              "    }\n",
              "</style>\n",
              "<table border=\"1\" class=\"dataframe\">\n",
              "  <thead>\n",
              "    <tr style=\"text-align: right;\">\n",
              "      <th></th>\n",
              "      <th>carrier name</th>\n",
              "      <th>percentage of passengers</th>\n",
              "    </tr>\n",
              "  </thead>\n",
              "  <tbody>\n",
              "    <tr>\n",
              "      <th>12</th>\n",
              "      <td>Delta Air Lines Inc.</td>\n",
              "      <td>13.237736</td>\n",
              "    </tr>\n",
              "    <tr>\n",
              "      <th>13</th>\n",
              "      <td>United Air Lines Inc.</td>\n",
              "      <td>23.127686</td>\n",
              "    </tr>\n",
              "    <tr>\n",
              "      <th>14</th>\n",
              "      <td>American Airlines Inc.</td>\n",
              "      <td>31.667754</td>\n",
              "    </tr>\n",
              "  </tbody>\n",
              "</table>\n",
              "</div>\n",
              "      <button class=\"colab-df-convert\" onclick=\"convertToInteractive('df-2dba120e-cc4b-4816-8145-3aca10eb7ac0')\"\n",
              "              title=\"Convert this dataframe to an interactive table.\"\n",
              "              style=\"display:none;\">\n",
              "        \n",
              "  <svg xmlns=\"http://www.w3.org/2000/svg\" height=\"24px\"viewBox=\"0 0 24 24\"\n",
              "       width=\"24px\">\n",
              "    <path d=\"M0 0h24v24H0V0z\" fill=\"none\"/>\n",
              "    <path d=\"M18.56 5.44l.94 2.06.94-2.06 2.06-.94-2.06-.94-.94-2.06-.94 2.06-2.06.94zm-11 1L8.5 8.5l.94-2.06 2.06-.94-2.06-.94L8.5 2.5l-.94 2.06-2.06.94zm10 10l.94 2.06.94-2.06 2.06-.94-2.06-.94-.94-2.06-.94 2.06-2.06.94z\"/><path d=\"M17.41 7.96l-1.37-1.37c-.4-.4-.92-.59-1.43-.59-.52 0-1.04.2-1.43.59L10.3 9.45l-7.72 7.72c-.78.78-.78 2.05 0 2.83L4 21.41c.39.39.9.59 1.41.59.51 0 1.02-.2 1.41-.59l7.78-7.78 2.81-2.81c.8-.78.8-2.07 0-2.86zM5.41 20L4 18.59l7.72-7.72 1.47 1.35L5.41 20z\"/>\n",
              "  </svg>\n",
              "      </button>\n",
              "      \n",
              "  <style>\n",
              "    .colab-df-container {\n",
              "      display:flex;\n",
              "      flex-wrap:wrap;\n",
              "      gap: 12px;\n",
              "    }\n",
              "\n",
              "    .colab-df-convert {\n",
              "      background-color: #E8F0FE;\n",
              "      border: none;\n",
              "      border-radius: 50%;\n",
              "      cursor: pointer;\n",
              "      display: none;\n",
              "      fill: #1967D2;\n",
              "      height: 32px;\n",
              "      padding: 0 0 0 0;\n",
              "      width: 32px;\n",
              "    }\n",
              "\n",
              "    .colab-df-convert:hover {\n",
              "      background-color: #E2EBFA;\n",
              "      box-shadow: 0px 1px 2px rgba(60, 64, 67, 0.3), 0px 1px 3px 1px rgba(60, 64, 67, 0.15);\n",
              "      fill: #174EA6;\n",
              "    }\n",
              "\n",
              "    [theme=dark] .colab-df-convert {\n",
              "      background-color: #3B4455;\n",
              "      fill: #D2E3FC;\n",
              "    }\n",
              "\n",
              "    [theme=dark] .colab-df-convert:hover {\n",
              "      background-color: #434B5C;\n",
              "      box-shadow: 0px 1px 3px 1px rgba(0, 0, 0, 0.15);\n",
              "      filter: drop-shadow(0px 1px 2px rgba(0, 0, 0, 0.3));\n",
              "      fill: #FFFFFF;\n",
              "    }\n",
              "  </style>\n",
              "\n",
              "      <script>\n",
              "        const buttonEl =\n",
              "          document.querySelector('#df-2dba120e-cc4b-4816-8145-3aca10eb7ac0 button.colab-df-convert');\n",
              "        buttonEl.style.display =\n",
              "          google.colab.kernel.accessAllowed ? 'block' : 'none';\n",
              "\n",
              "        async function convertToInteractive(key) {\n",
              "          const element = document.querySelector('#df-2dba120e-cc4b-4816-8145-3aca10eb7ac0');\n",
              "          const dataTable =\n",
              "            await google.colab.kernel.invokeFunction('convertToInteractive',\n",
              "                                                     [key], {});\n",
              "          if (!dataTable) return;\n",
              "\n",
              "          const docLinkHtml = 'Like what you see? Visit the ' +\n",
              "            '<a target=\"_blank\" href=https://colab.research.google.com/notebooks/data_table.ipynb>data table notebook</a>'\n",
              "            + ' to learn more about interactive tables.';\n",
              "          element.innerHTML = '';\n",
              "          dataTable['output_type'] = 'display_data';\n",
              "          await google.colab.output.renderOutput(dataTable, element);\n",
              "          const docLink = document.createElement('div');\n",
              "          docLink.innerHTML = docLinkHtml;\n",
              "          element.appendChild(docLink);\n",
              "        }\n",
              "      </script>\n",
              "    </div>\n",
              "  </div>\n",
              "  "
            ]
          },
          "metadata": {},
          "execution_count": 8
        }
      ],
      "source": [
        "total_passengers = c[(c['origin_city_name'] == top_route_origin_city) & (c['dest_city_name'] == top_route_dest_city)]['passengers'].sum()\n",
        "top_3_carriers_df = c[(c['origin_city_name'] == top_route_origin_city) & (c['dest_city_name'] == top_route_dest_city)].groupby('carrier_name').agg({'passengers' : (lambda x: np.sum(x) / total_passengers * 100)}).sort_values('passengers').reset_index()[-3:].rename(columns = {'carrier_name': 'carrier name', 'passengers' : 'percentage of passengers'}) # Place your code here instead of '...'\n",
        "\n",
        "top_3_carriers_df"
      ],
      "id": "hjuZmKgRLj_-"
    },
    {
      "cell_type": "markdown",
      "metadata": {
        "id": "ag0qFN_ULj__"
      },
      "source": [
        "##### 8. Find the percentage of international travel per country using total passengers on class F flights. (3 points)"
      ],
      "id": "ag0qFN_ULj__"
    },
    {
      "cell_type": "code",
      "execution_count": 9,
      "metadata": {
        "id": "UZpbhFPcLj__",
        "outputId": "4ca0ed15-66df-4796-a82e-698dde6cfa65",
        "colab": {
          "base_uri": "https://localhost:8080/",
          "height": 424
        }
      },
      "outputs": [
        {
          "output_type": "execute_result",
          "data": {
            "text/plain": [
              "    origin country  percentage of international travel\n",
              "0               AE                               100.0\n",
              "1               AG                               100.0\n",
              "2               AI                               100.0\n",
              "3               AR                               100.0\n",
              "4               AT                               100.0\n",
              "..             ...                                 ...\n",
              "104             VC                               100.0\n",
              "105             VE                               100.0\n",
              "106             VG                               100.0\n",
              "107             WS                               100.0\n",
              "108             ZA                               100.0\n",
              "\n",
              "[109 rows x 2 columns]"
            ],
            "text/html": [
              "\n",
              "  <div id=\"df-8e78cf79-633b-4fed-ae92-de5619404988\">\n",
              "    <div class=\"colab-df-container\">\n",
              "      <div>\n",
              "<style scoped>\n",
              "    .dataframe tbody tr th:only-of-type {\n",
              "        vertical-align: middle;\n",
              "    }\n",
              "\n",
              "    .dataframe tbody tr th {\n",
              "        vertical-align: top;\n",
              "    }\n",
              "\n",
              "    .dataframe thead th {\n",
              "        text-align: right;\n",
              "    }\n",
              "</style>\n",
              "<table border=\"1\" class=\"dataframe\">\n",
              "  <thead>\n",
              "    <tr style=\"text-align: right;\">\n",
              "      <th></th>\n",
              "      <th>origin country</th>\n",
              "      <th>percentage of international travel</th>\n",
              "    </tr>\n",
              "  </thead>\n",
              "  <tbody>\n",
              "    <tr>\n",
              "      <th>0</th>\n",
              "      <td>AE</td>\n",
              "      <td>100.0</td>\n",
              "    </tr>\n",
              "    <tr>\n",
              "      <th>1</th>\n",
              "      <td>AG</td>\n",
              "      <td>100.0</td>\n",
              "    </tr>\n",
              "    <tr>\n",
              "      <th>2</th>\n",
              "      <td>AI</td>\n",
              "      <td>100.0</td>\n",
              "    </tr>\n",
              "    <tr>\n",
              "      <th>3</th>\n",
              "      <td>AR</td>\n",
              "      <td>100.0</td>\n",
              "    </tr>\n",
              "    <tr>\n",
              "      <th>4</th>\n",
              "      <td>AT</td>\n",
              "      <td>100.0</td>\n",
              "    </tr>\n",
              "    <tr>\n",
              "      <th>...</th>\n",
              "      <td>...</td>\n",
              "      <td>...</td>\n",
              "    </tr>\n",
              "    <tr>\n",
              "      <th>104</th>\n",
              "      <td>VC</td>\n",
              "      <td>100.0</td>\n",
              "    </tr>\n",
              "    <tr>\n",
              "      <th>105</th>\n",
              "      <td>VE</td>\n",
              "      <td>100.0</td>\n",
              "    </tr>\n",
              "    <tr>\n",
              "      <th>106</th>\n",
              "      <td>VG</td>\n",
              "      <td>100.0</td>\n",
              "    </tr>\n",
              "    <tr>\n",
              "      <th>107</th>\n",
              "      <td>WS</td>\n",
              "      <td>100.0</td>\n",
              "    </tr>\n",
              "    <tr>\n",
              "      <th>108</th>\n",
              "      <td>ZA</td>\n",
              "      <td>100.0</td>\n",
              "    </tr>\n",
              "  </tbody>\n",
              "</table>\n",
              "<p>109 rows × 2 columns</p>\n",
              "</div>\n",
              "      <button class=\"colab-df-convert\" onclick=\"convertToInteractive('df-8e78cf79-633b-4fed-ae92-de5619404988')\"\n",
              "              title=\"Convert this dataframe to an interactive table.\"\n",
              "              style=\"display:none;\">\n",
              "        \n",
              "  <svg xmlns=\"http://www.w3.org/2000/svg\" height=\"24px\"viewBox=\"0 0 24 24\"\n",
              "       width=\"24px\">\n",
              "    <path d=\"M0 0h24v24H0V0z\" fill=\"none\"/>\n",
              "    <path d=\"M18.56 5.44l.94 2.06.94-2.06 2.06-.94-2.06-.94-.94-2.06-.94 2.06-2.06.94zm-11 1L8.5 8.5l.94-2.06 2.06-.94-2.06-.94L8.5 2.5l-.94 2.06-2.06.94zm10 10l.94 2.06.94-2.06 2.06-.94-2.06-.94-.94-2.06-.94 2.06-2.06.94z\"/><path d=\"M17.41 7.96l-1.37-1.37c-.4-.4-.92-.59-1.43-.59-.52 0-1.04.2-1.43.59L10.3 9.45l-7.72 7.72c-.78.78-.78 2.05 0 2.83L4 21.41c.39.39.9.59 1.41.59.51 0 1.02-.2 1.41-.59l7.78-7.78 2.81-2.81c.8-.78.8-2.07 0-2.86zM5.41 20L4 18.59l7.72-7.72 1.47 1.35L5.41 20z\"/>\n",
              "  </svg>\n",
              "      </button>\n",
              "      \n",
              "  <style>\n",
              "    .colab-df-container {\n",
              "      display:flex;\n",
              "      flex-wrap:wrap;\n",
              "      gap: 12px;\n",
              "    }\n",
              "\n",
              "    .colab-df-convert {\n",
              "      background-color: #E8F0FE;\n",
              "      border: none;\n",
              "      border-radius: 50%;\n",
              "      cursor: pointer;\n",
              "      display: none;\n",
              "      fill: #1967D2;\n",
              "      height: 32px;\n",
              "      padding: 0 0 0 0;\n",
              "      width: 32px;\n",
              "    }\n",
              "\n",
              "    .colab-df-convert:hover {\n",
              "      background-color: #E2EBFA;\n",
              "      box-shadow: 0px 1px 2px rgba(60, 64, 67, 0.3), 0px 1px 3px 1px rgba(60, 64, 67, 0.15);\n",
              "      fill: #174EA6;\n",
              "    }\n",
              "\n",
              "    [theme=dark] .colab-df-convert {\n",
              "      background-color: #3B4455;\n",
              "      fill: #D2E3FC;\n",
              "    }\n",
              "\n",
              "    [theme=dark] .colab-df-convert:hover {\n",
              "      background-color: #434B5C;\n",
              "      box-shadow: 0px 1px 3px 1px rgba(0, 0, 0, 0.15);\n",
              "      filter: drop-shadow(0px 1px 2px rgba(0, 0, 0, 0.3));\n",
              "      fill: #FFFFFF;\n",
              "    }\n",
              "  </style>\n",
              "\n",
              "      <script>\n",
              "        const buttonEl =\n",
              "          document.querySelector('#df-8e78cf79-633b-4fed-ae92-de5619404988 button.colab-df-convert');\n",
              "        buttonEl.style.display =\n",
              "          google.colab.kernel.accessAllowed ? 'block' : 'none';\n",
              "\n",
              "        async function convertToInteractive(key) {\n",
              "          const element = document.querySelector('#df-8e78cf79-633b-4fed-ae92-de5619404988');\n",
              "          const dataTable =\n",
              "            await google.colab.kernel.invokeFunction('convertToInteractive',\n",
              "                                                     [key], {});\n",
              "          if (!dataTable) return;\n",
              "\n",
              "          const docLinkHtml = 'Like what you see? Visit the ' +\n",
              "            '<a target=\"_blank\" href=https://colab.research.google.com/notebooks/data_table.ipynb>data table notebook</a>'\n",
              "            + ' to learn more about interactive tables.';\n",
              "          element.innerHTML = '';\n",
              "          dataTable['output_type'] = 'display_data';\n",
              "          await google.colab.output.renderOutput(dataTable, element);\n",
              "          const docLink = document.createElement('div');\n",
              "          docLink.innerHTML = docLinkHtml;\n",
              "          element.appendChild(docLink);\n",
              "        }\n",
              "      </script>\n",
              "    </div>\n",
              "  </div>\n",
              "  "
            ]
          },
          "metadata": {},
          "execution_count": 9
        }
      ],
      "source": [
        "c1 = c[c['class'] == 'F'].groupby(['origin_country', 'dest_country']).agg({'passengers': np.sum}).reset_index()\n",
        "c_int = c1[c1['origin_country'] != c1['dest_country']].groupby('origin_country').agg({'passengers': np.sum}).reset_index()\n",
        "c_all = c1.groupby('origin_country').agg({'passengers': np.sum}).reset_index()\n",
        "international_travel_per_country = pd.DataFrame([[x, c_int[c_int['origin_country'] == x]['passengers'].sum() / c_all[c_all['origin_country'] == x]['passengers'].sum() * 100] for x in c1['origin_country'].unique()], columns = ['origin country', 'percentage of international travel']) # Place your code here instead of '...'\n",
        "\n",
        "international_travel_per_country"
      ],
      "id": "UZpbhFPcLj__"
    }
  ],
  "metadata": {
    "kernelspec": {
      "display_name": "Python 3",
      "language": "python",
      "name": "python3"
    },
    "language_info": {
      "codemirror_mode": {
        "name": "ipython",
        "version": 3
      },
      "file_extension": ".py",
      "mimetype": "text/x-python",
      "name": "python",
      "nbconvert_exporter": "python",
      "pygments_lexer": "ipython3",
      "version": "3.7.6"
    },
    "colab": {
      "name": "pandas_exercise.ipynb",
      "provenance": [],
      "include_colab_link": true
    }
  },
  "nbformat": 4,
  "nbformat_minor": 5
}