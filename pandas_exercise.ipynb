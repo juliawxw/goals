{
  "cells": [
    {
      "cell_type": "markdown",
      "metadata": {
        "id": "7atskV1pZoUS"
      },
      "source": [
        "# Homework 3. Pandas\n",
        "\n",
        "## Important notes\n",
        "\n",
        "1. *When you open this file on GitHub, copy the address to this file from the address bar of your browser. Now you can go to [Google Colab](https://colab.research.google.com/), click `File -> Open notebook -> GitHub`, paste the copied URL and click the search button (the one with the magnifying glass to the right of the search input box). Your personal copy of this notebook will now open on Google Colab.*\n",
        "2. *Do not delete or change variable names in the code cells below. You may add to each cell as many lines of code as you need, just make sure to assign your solution to the predefined variable(s) in the corresponding cell. Failing to do so will make the tests fail.*\n",
        "3. *To save your work, click `File -> Save a copy on GitHub` and __make sure to manually select the correct repository from the dropdown list__.*\n",
        "4. *If you mess up with this file and need to start from scratch, you can always find the original one [here](https://github.com/hse-mlwp-2022/assignment3-template/blob/main/pandas_exercise.ipynb). Just open it in Google Colab (see note 1) and save to your repository (see note 3). Remember to backup your code elsewhere, since this action will overwrite your previous work.* \n",
        "5. *Exercises 1-4 are mandatory. Your work __will not be graded__ if you fail any one of them. Exercises 5-8 are optional, you can skip them if you want*\n",
        "\n",
        "## About the Dataset\n",
        "\n",
        "We will be using 2019 flight statistics from the United States Department of Transportation’s Bureau of Transportation Statistics (available [here](https://www.transtats.bts.gov/DL_SelectFields.asp?gnoyr_VQ=FMF&QO_fu146_anzr=Nv4%20Pn44vr45) and in your repository as `data/T100_MARKET_ALL_CARRIER.zip`). You can load the dataset in pandas using this link: `https://github.com/hse-mlwp-2022/assignment3-template/raw/main/data/T100_MARKET_ALL_CARRIER.zip`.\n",
        "\n",
        "Each row contains information about a specific route for a given carrier in a given month (e.g., JFK &rarr; LAX on Delta Airlines in January). There are 321,409 rows and 41 columns. Note that you don't need to unzip the file to read it in with `pd.read_csv()`.\n",
        "\n",
        "#### Exercises\n",
        "\n",
        "##### 1. Read in the data and convert the column names to lowercase to make them easier to work with."
      ],
      "id": "7atskV1pZoUS"
    },
    {
      "cell_type": "code",
      "execution_count": null,
      "metadata": {
        "id": "v_yPK7h1ZoUU"
      },
      "outputs": [],
      "source": [
        "import pandas as pd\n",
        "c = pd.read_csv('https://github.com/hse-mlwp-2022/assignment3-template/raw/main/data/T100_MARKET_ALL_CARRIER.zip')\n",
        "c.rename(columns={col:col.lower() for col in c}, inplace = True)"
      ],
      "id": "v_yPK7h1ZoUU"
    },
    {
      "cell_type": "markdown",
      "metadata": {
        "id": "3x9PRIOzZoUV"
      },
      "source": [
        "##### 2. What columns are in the data? (0.5 point)"
      ],
      "id": "3x9PRIOzZoUV"
    },
    {
      "cell_type": "code",
      "execution_count": null,
      "metadata": {
        "id": "vxJ3DMF8ZoUV"
      },
      "outputs": [],
      "source": [
        "columns = list(c.columns) \n",
        "\n",
        "print(columns)"
      ],
      "id": "vxJ3DMF8ZoUV"
    },
    {
      "cell_type": "markdown",
      "metadata": {
        "id": "9jrWmdWqZoUV"
      },
      "source": [
        "##### 3. How many distinct carrier names are in the dataset? (0.5 point)"
      ],
      "id": "9jrWmdWqZoUV"
    },
    {
      "cell_type": "code",
      "execution_count": null,
      "metadata": {
        "id": "Q_KXoqioZoUV"
      },
      "outputs": [],
      "source": [
        "carrier_names = c[\"carrier_name\"].unique() \n",
        "\n",
        "print(carrier_names)"
      ],
      "id": "Q_KXoqioZoUV"
    },
    {
      "cell_type": "markdown",
      "metadata": {
        "id": "0t_cmHTYZoUW"
      },
      "source": [
        "##### 4. Calculate the totals of the `freight`, `mail`, and `passengers` columns for flights from the United Kingdom to the United States. (1 point)"
      ],
      "id": "0t_cmHTYZoUW"
    },
    {
      "cell_type": "code",
      "execution_count": null,
      "metadata": {
        "id": "V-FE_UZRZoUW"
      },
      "outputs": [],
      "source": [
        "freight_total = c[(c['origin_country'] == 'GB') & (c['dest_country'] == 'US')]['freight'].sum() \n",
        "mail_total = c[(c['origin_country'] == 'GB') & (c['dest_country'] == 'US')]['mail'].sum() \n",
        "passengers_total = c[(c['origin_country'] == 'GB') & (c['dest_country'] == 'US')]['passengers'].sum() \n",
        "\n",
        "print(f\"freight total: {freight_total}\")\n",
        "print(f\"mail total: {mail_total}\")\n",
        "print(f\"passengers total: {passengers_total}\")"
      ],
      "id": "V-FE_UZRZoUW"
    },
    {
      "cell_type": "markdown",
      "metadata": {
        "id": "B9xYNDg_ZoUW"
      },
      "source": [
        "##### 5. Which 10 carriers flew the most passengers out of the United States to another country? (1.5 points)\n",
        "The result should be a Python iterable, e.g. a list or a corresponding pandas object"
      ],
      "id": "B9xYNDg_ZoUW"
    },
    {
      "cell_type": "code",
      "execution_count": null,
      "metadata": {
        "id": "VssKgZHoZoUW"
      },
      "outputs": [],
      "source": [
        "import numpy as np\n",
        "top_10_by_passengers = c[(c['origin_country'] == 'US') & (c['dest_country'] != 'US')].groupby('carrier_name').agg({'passengers':np.sum}).sort_values('passengers').reset_index()[-10:] \n",
        "print(f\"List of top 10 carriers with max number of passengers flown out of US: {top_10_by_passengers}\")"
      ],
      "id": "VssKgZHoZoUW"
    },
    {
      "cell_type": "markdown",
      "metadata": {
        "id": "xPQWQHi_ZoUX"
      },
      "source": [
        "##### 6. Between which two cities were the most passengers flown? Make sure to account for both directions. (1.5 points)"
      ],
      "id": "xPQWQHi_ZoUX"
    },
    {
      "cell_type": "code",
      "execution_count": null,
      "metadata": {
        "id": "C-JORJ3JZoUX"
      },
      "outputs": [],
      "source": [
        "needed_entry = c.groupby(['origin_city_name', 'dest_city_name']).agg({'passengers':np.sum}).sort_values('passengers').reset_index().values[-1]\n",
        "top_route_origin_city = needed_entry[0] \n",
        "top_route_dest_city = needed_entry[1] \n",
        "top_route_passengers_count = needed_entry[2] \n",
        "\n",
        "print(f\"top route is '{top_route_origin_city} - {top_route_dest_city}' with traffic of {top_route_passengers_count} passengers\")"
      ],
      "id": "C-JORJ3JZoUX"
    },
    {
      "cell_type": "markdown",
      "metadata": {
        "id": "7B1Dp_SzZoUX"
      },
      "source": [
        "##### 7. Find the top 3 carriers for the pair of cities found in #6 and calculate the percentage of passengers each accounted for. (2 points)\n",
        "The result should be a pandas dataframe object with two columns: \n",
        "1. carrier name (string)\n",
        "2. percentage of passengers (float in the range of 0-100)"
      ],
      "id": "7B1Dp_SzZoUX"
    },
    {
      "cell_type": "code",
      "execution_count": null,
      "metadata": {
        "id": "MTkhTDhmZoUY"
      },
      "outputs": [],
      "source": [
        "total_passengers = c[(c['origin_city_name'] == top_route_origin_city) & (c['dest_city_name'] == top_route_dest_city)]['passengers'].sum()\n",
        "top_3_carriers_df = c[(c['origin_city_name'] == top_route_origin_city) & (c['dest_city_name'] == top_route_dest_city)].groupby('carrier_name').agg({'passengers' : (lambda x: np.sum(x) / total_passengers * 100)}).sort_values('passengers').reset_index()[-3:].rename(columns = {'carrier_name': 'carrier name', 'passengers' : 'percentage of passengers'}) # Place your code here instead of '...'\n",
        "\n",
        "top_3_carriers_df"
      ],
      "id": "MTkhTDhmZoUY"
    },
    {
      "cell_type": "markdown",
      "metadata": {
        "id": "OU0iJu24ZoUY"
      },
      "source": [
        "##### 8. Find the percentage of international travel per country using total passengers on class F flights. (3 points)"
      ],
      "id": "OU0iJu24ZoUY"
    },
    {
      "cell_type": "code",
      "execution_count": 1,
      "metadata": {
        "id": "fuSxd82VZoUY",
        "outputId": "2b44451b-c25b-48f8-9d84-139eb997ee25",
        "colab": {
          "base_uri": "https://localhost:8080/",
          "height": 252
        }
      },
      "outputs": [
        {
          "output_type": "error",
          "ename": "NameError",
          "evalue": "ignored",
          "traceback": [
            "\u001b[0;31m---------------------------------------------------------------------------\u001b[0m",
            "\u001b[0;31mNameError\u001b[0m                                 Traceback (most recent call last)",
            "\u001b[0;32m<ipython-input-1-ed6ca761189b>\u001b[0m in \u001b[0;36m<module>\u001b[0;34m()\u001b[0m\n\u001b[0;32m----> 1\u001b[0;31m \u001b[0mc1\u001b[0m \u001b[0;34m=\u001b[0m \u001b[0mc\u001b[0m\u001b[0;34m[\u001b[0m\u001b[0mc\u001b[0m\u001b[0;34m[\u001b[0m\u001b[0;34m'class'\u001b[0m\u001b[0;34m]\u001b[0m \u001b[0;34m==\u001b[0m \u001b[0;34m'F'\u001b[0m\u001b[0;34m]\u001b[0m\u001b[0;34m.\u001b[0m\u001b[0mgroupby\u001b[0m\u001b[0;34m(\u001b[0m\u001b[0;34m[\u001b[0m\u001b[0;34m'origin_country'\u001b[0m\u001b[0;34m,\u001b[0m \u001b[0;34m'dest_country'\u001b[0m\u001b[0;34m]\u001b[0m\u001b[0;34m)\u001b[0m\u001b[0;34m.\u001b[0m\u001b[0magg\u001b[0m\u001b[0;34m(\u001b[0m\u001b[0;34m{\u001b[0m\u001b[0;34m'passengers'\u001b[0m\u001b[0;34m:\u001b[0m \u001b[0mnp\u001b[0m\u001b[0;34m.\u001b[0m\u001b[0msum\u001b[0m\u001b[0;34m}\u001b[0m\u001b[0;34m)\u001b[0m\u001b[0;34m.\u001b[0m\u001b[0mreset_index\u001b[0m\u001b[0;34m(\u001b[0m\u001b[0;34m)\u001b[0m\u001b[0;34m\u001b[0m\u001b[0;34m\u001b[0m\u001b[0m\n\u001b[0m\u001b[1;32m      2\u001b[0m \u001b[0mc_int\u001b[0m \u001b[0;34m=\u001b[0m \u001b[0mc1\u001b[0m\u001b[0;34m[\u001b[0m\u001b[0mc1\u001b[0m\u001b[0;34m[\u001b[0m\u001b[0;34m'origin_country'\u001b[0m\u001b[0;34m]\u001b[0m \u001b[0;34m!=\u001b[0m \u001b[0mc1\u001b[0m\u001b[0;34m[\u001b[0m\u001b[0;34m'dest_country'\u001b[0m\u001b[0;34m]\u001b[0m\u001b[0;34m]\u001b[0m\u001b[0;34m.\u001b[0m\u001b[0mgroupby\u001b[0m\u001b[0;34m(\u001b[0m\u001b[0;34m'origin_country'\u001b[0m\u001b[0;34m)\u001b[0m\u001b[0;34m.\u001b[0m\u001b[0magg\u001b[0m\u001b[0;34m(\u001b[0m\u001b[0;34m{\u001b[0m\u001b[0;34m'passengers'\u001b[0m\u001b[0;34m:\u001b[0m \u001b[0mnp\u001b[0m\u001b[0;34m.\u001b[0m\u001b[0msum\u001b[0m\u001b[0;34m}\u001b[0m\u001b[0;34m)\u001b[0m\u001b[0;34m.\u001b[0m\u001b[0mreset_index\u001b[0m\u001b[0;34m(\u001b[0m\u001b[0;34m)\u001b[0m\u001b[0;34m\u001b[0m\u001b[0;34m\u001b[0m\u001b[0m\n\u001b[1;32m      3\u001b[0m \u001b[0mc_all\u001b[0m \u001b[0;34m=\u001b[0m \u001b[0mc1\u001b[0m\u001b[0;34m.\u001b[0m\u001b[0mgroupby\u001b[0m\u001b[0;34m(\u001b[0m\u001b[0;34m'origin_country'\u001b[0m\u001b[0;34m)\u001b[0m\u001b[0;34m.\u001b[0m\u001b[0magg\u001b[0m\u001b[0;34m(\u001b[0m\u001b[0;34m{\u001b[0m\u001b[0;34m'passengers'\u001b[0m\u001b[0;34m:\u001b[0m \u001b[0mnp\u001b[0m\u001b[0;34m.\u001b[0m\u001b[0msum\u001b[0m\u001b[0;34m}\u001b[0m\u001b[0;34m)\u001b[0m\u001b[0;34m.\u001b[0m\u001b[0mreset_index\u001b[0m\u001b[0;34m(\u001b[0m\u001b[0;34m)\u001b[0m\u001b[0;34m\u001b[0m\u001b[0;34m\u001b[0m\u001b[0m\n\u001b[1;32m      4\u001b[0m \u001b[0minternational_travel_per_country\u001b[0m \u001b[0;34m=\u001b[0m \u001b[0mpd\u001b[0m\u001b[0;34m.\u001b[0m\u001b[0mDataFrame\u001b[0m\u001b[0;34m(\u001b[0m\u001b[0;34m[\u001b[0m\u001b[0;34m[\u001b[0m\u001b[0mx\u001b[0m\u001b[0;34m,\u001b[0m \u001b[0mc_int\u001b[0m\u001b[0;34m[\u001b[0m\u001b[0mc_int\u001b[0m\u001b[0;34m[\u001b[0m\u001b[0;34m'origin_country'\u001b[0m\u001b[0;34m]\u001b[0m \u001b[0;34m==\u001b[0m \u001b[0mx\u001b[0m\u001b[0;34m]\u001b[0m\u001b[0;34m[\u001b[0m\u001b[0;34m'passengers'\u001b[0m\u001b[0;34m]\u001b[0m\u001b[0;34m.\u001b[0m\u001b[0msum\u001b[0m\u001b[0;34m(\u001b[0m\u001b[0;34m)\u001b[0m \u001b[0;34m/\u001b[0m \u001b[0mc_all\u001b[0m\u001b[0;34m[\u001b[0m\u001b[0mc_all\u001b[0m\u001b[0;34m[\u001b[0m\u001b[0;34m'origin_country'\u001b[0m\u001b[0;34m]\u001b[0m \u001b[0;34m==\u001b[0m \u001b[0mx\u001b[0m\u001b[0;34m]\u001b[0m\u001b[0;34m[\u001b[0m\u001b[0;34m'passengers'\u001b[0m\u001b[0;34m]\u001b[0m\u001b[0;34m.\u001b[0m\u001b[0msum\u001b[0m\u001b[0;34m(\u001b[0m\u001b[0;34m)\u001b[0m \u001b[0;34m*\u001b[0m \u001b[0;36m100\u001b[0m\u001b[0;34m]\u001b[0m \u001b[0;32mfor\u001b[0m \u001b[0mx\u001b[0m \u001b[0;32min\u001b[0m \u001b[0mc1\u001b[0m\u001b[0;34m[\u001b[0m\u001b[0;34m'origin_country'\u001b[0m\u001b[0;34m]\u001b[0m\u001b[0;34m.\u001b[0m\u001b[0munique\u001b[0m\u001b[0;34m(\u001b[0m\u001b[0;34m)\u001b[0m\u001b[0;34m]\u001b[0m\u001b[0;34m,\u001b[0m \u001b[0mcolumns\u001b[0m \u001b[0;34m=\u001b[0m \u001b[0;34m[\u001b[0m\u001b[0;34m'origin country'\u001b[0m\u001b[0;34m,\u001b[0m \u001b[0;34m'percentage of international travel'\u001b[0m\u001b[0;34m]\u001b[0m\u001b[0;34m)\u001b[0m \u001b[0;31m# Place your code here instead of '...'\u001b[0m\u001b[0;34m\u001b[0m\u001b[0;34m\u001b[0m\u001b[0m\n\u001b[1;32m      5\u001b[0m \u001b[0;34m\u001b[0m\u001b[0m\n",
            "\u001b[0;31mNameError\u001b[0m: name 'c' is not defined"
          ]
        }
      ],
      "source": [
        "c1 = c[c['class'] == 'F'].groupby(['origin_country', 'dest_country']).agg({'passengers': np.sum}).reset_index()\n",
        "c_int = c1[c1['origin_country'] != c1['dest_country']].groupby('origin_country').agg({'passengers': np.sum}).reset_index()\n",
        "c_all = c1.groupby('origin_country').agg({'passengers': np.sum}).reset_index()\n",
        "international_travel_per_country = pd.DataFrame([[x, c_int[c_int['origin_country'] == x]['passengers'].sum() / c_all[c_all['origin_country'] == x]['passengers'].sum() * 100] for x in c1['origin_country'].unique()], columns = ['origin country', 'percentage of international travel']) # Place your code here instead of '...'\n",
        "\n",
        "international_travel_per_country"
      ],
      "id": "fuSxd82VZoUY"
    }
  ],
  "metadata": {
    "kernelspec": {
      "display_name": "Python 3",
      "language": "python",
      "name": "python3"
    },
    "language_info": {
      "codemirror_mode": {
        "name": "ipython",
        "version": 3
      },
      "file_extension": ".py",
      "mimetype": "text/x-python",
      "name": "python",
      "nbconvert_exporter": "python",
      "pygments_lexer": "ipython3",
      "version": "3.7.6"
    },
    "colab": {
      "name": "pandas_exercise.ipynb",
      "provenance": []
    }
  },
  "nbformat": 4,
  "nbformat_minor": 5
}